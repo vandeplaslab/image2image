{
 "cells": [
  {
   "cell_type": "code",
   "execution_count": 2,
   "id": "048e86cb",
   "metadata": {},
   "outputs": [],
   "source": [
    "%load_ext autoreload\n",
    "%autoreload 2"
   ]
  },
  {
   "cell_type": "code",
   "execution_count": 42,
   "id": "cb75bfa9",
   "metadata": {},
   "outputs": [],
   "source": [
    "from imzy import get_reader, discover_plugins\n",
    "from pathlib import Path\n",
    "import matplotlib.pyplot as plt\n",
    "import numpy as np\n",
    "from imspy_data.workflows.writer import write_from_reader"
   ]
  },
  {
   "cell_type": "code",
   "execution_count": 5,
   "id": "c70685e2",
   "metadata": {},
   "outputs": [],
   "source": [
    "path = Path(r\"Y:\\spraggins\\sandbox\\collem1\\MRMS\\2025FebBrukerVisitMatch\\VU K133 NEG\\VU K133 NEG.d.d\")\n",
    "reader = get_reader(path)"
   ]
  },
  {
   "cell_type": "code",
   "execution_count": null,
   "id": "88c2d956",
   "metadata": {},
   "outputs": [],
   "source": []
  },
  {
   "cell_type": "code",
   "execution_count": 39,
   "id": "7604723a",
   "metadata": {},
   "outputs": [],
   "source": [
    "x1, y1 = reader.get_spectrum(0)\n",
    "x2, y2 = reader.get_spectrum(reader.pixels[-1])"
   ]
  },
  {
   "cell_type": "code",
   "execution_count": null,
   "id": "d2a10c3b",
   "metadata": {},
   "outputs": [
    {
     "data": {
      "text/plain": [
       "17163.85248904369"
      ]
     },
     "execution_count": 42,
     "metadata": {},
     "output_type": "execute_result"
    }
   ],
   "source": []
  },
  {
   "cell_type": "code",
   "execution_count": 44,
   "id": "5aafb693",
   "metadata": {},
   "outputs": [
    {
     "data": {
      "text/plain": [
       "43055"
      ]
     },
     "execution_count": 44,
     "metadata": {},
     "output_type": "execute_result"
    }
   ],
   "source": [
    "np.count_nonzero(y <= 3e3)"
   ]
  },
  {
   "cell_type": "code",
   "execution_count": 16,
   "id": "5b278043",
   "metadata": {},
   "outputs": [
    {
     "data": {
      "text/plain": [
       "(1992294,)"
      ]
     },
     "execution_count": 16,
     "metadata": {},
     "output_type": "execute_result"
    }
   ],
   "source": [
    "x, y = reader.get_spectrum(200)\n",
    "x.shape"
   ]
  },
  {
   "cell_type": "code",
   "execution_count": 13,
   "id": "c1804a17",
   "metadata": {},
   "outputs": [
    {
     "data": {
      "text/plain": [
       "(778.0, 780.0)"
      ]
     },
     "execution_count": 13,
     "metadata": {},
     "output_type": "execute_result"
    },
    {
     "data": {
      "image/png": "[encoded data removed]",
      "text/plain": [
       "<Figure size 640x480 with 1 Axes>"
      ]
     },
     "metadata": {},
     "output_type": "display_data"
    }
   ],
   "source": [
    "x, y = reader.get_spectrum(0)\n",
    "plt.plot(x, y)\n",
    "plt.xlim(778, 780)"
   ]
  },
  {
   "cell_type": "code",
   "execution_count": 15,
   "id": "ce5d0949",
   "metadata": {},
   "outputs": [
    {
     "data": {
      "text/plain": [
       "<matplotlib.image.AxesImage at 0x1c2a305b0a0>"
      ]
     },
     "execution_count": 15,
     "metadata": {},
     "output_type": "execute_result"
    },
    {
     "data": {
      "image/png": "[encoded data removed]",
      "text/plain": [
       "<Figure size 640x480 with 1 Axes>"
      ]
     },
     "metadata": {},
     "output_type": "display_data"
    }
   ],
   "source": [
    "import numpy as np\n",
    "import matplotlib.pyplot as plt\n",
    "\n",
    "def impulse_grid(shape, spacing):\n",
    "    \"\"\"\n",
    "    Create a 2D array with regularly spaced 1's (Dirac comb).\n",
    "\n",
    "    Parameters\n",
    "    ----------\n",
    "    shape : tuple (n_rows, n_cols)\n",
    "        Size of the output array.\n",
    "    spacing : int or tuple (row_spacing, col_spacing)\n",
    "        Spacing between impulses (in pixels).\n",
    "\n",
    "    Returns\n",
    "    -------\n",
    "    grid : ndarray of shape (n_rows, n_cols)\n",
    "        Array with ones at positions that are multiples of spacing,\n",
    "        zeros elsewhere.\n",
    "    \"\"\"\n",
    "    n, m = shape\n",
    "    if isinstance(spacing, int):\n",
    "        rstep, cstep = spacing, spacing\n",
    "    else:\n",
    "        rstep, cstep = spacing\n",
    "\n",
    "    grid = np.zeros((n, m), dtype=int)\n",
    "    grid[::rstep, ::cstep] = 1\n",
    "    return grid\n",
    "\n",
    "\n",
    "def cross_grid(shape, spacing=None):\n",
    "    \"\"\"\n",
    "    Create a 2D cross pattern with ones in the central row and column.\n",
    "\n",
    "    Parameters\n",
    "    ----------\n",
    "    shape : tuple (n_rows, n_cols)\n",
    "        Size of the output array.\n",
    "    spacing : int or None\n",
    "        If given, the cross is placed at the center index = spacing//2.\n",
    "        If None, the cross is at the array center (n//2, m//2).\n",
    "\n",
    "    Returns\n",
    "    -------\n",
    "    grid : ndarray of shape (n, m)\n",
    "    \"\"\"\n",
    "    grid = np.zeros(shape, dtype=int)\n",
    "\n",
    "    if spacing is None:\n",
    "        row = shape[0] // 2\n",
    "        col = shape[1] // 2\n",
    "    else:\n",
    "        row = spacing // 2\n",
    "        col = spacing // 2\n",
    "\n",
    "    grid[row, :] = 1\n",
    "    grid[:, col] = 1\n",
    "    return grid\n",
    "\n",
    "\n",
    "def repeating_cross_grid(shape, spacing=3):\n",
    "    \"\"\"\n",
    "    Create a 2D grid with repeating crosses (\"+\" shapes).\n",
    "\n",
    "    Parameters\n",
    "    ----------\n",
    "    shape : tuple of int\n",
    "        (n_rows, n_cols) of the output array.\n",
    "    spacing : int\n",
    "        Distance between cross centers.\n",
    "\n",
    "    Returns\n",
    "    -------\n",
    "    grid : ndarray\n",
    "        Array of shape `shape` with 1's forming repeating crosses.\n",
    "    \"\"\"\n",
    "    n, m = shape\n",
    "    grid = np.zeros((n, m), dtype=int)\n",
    "\n",
    "    # centers of crosses at multiples of spacing\n",
    "    for r in range(0, n, spacing):\n",
    "        grid[r, :] = 1   # horizontal line\n",
    "    for c in range(0, m, spacing):\n",
    "        grid[:, c] = 1   # vertical line\n",
    "\n",
    "    return grid\n",
    "\n",
    "g = repeating_cross_grid((100, 100), spacing=19)\n",
    "plt.imshow(g, cmap='gray', interpolation='nearest')"
   ]
  }
 ],
 "metadata": {
  "kernelspec": {
   "display_name": "venv2 (3.10.15)",
   "language": "python",
   "name": "python3"
  },
  "language_info": {
   "codemirror_mode": {
    "name": "ipython",
    "version": 3
   },
   "file_extension": ".py",
   "mimetype": "text/x-python",
   "name": "python",
   "nbconvert_exporter": "python",
   "pygments_lexer": "ipython3",
   "version": "3.10.15"
  }
 },
 "nbformat": 4,
 "nbformat_minor": 5
}
