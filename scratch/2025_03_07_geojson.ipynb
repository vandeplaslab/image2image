{
 "cells": [
  {
   "cell_type": "code",
   "execution_count": 1,
   "id": "15af169043439088",
   "metadata": {
    "jupyter": {
     "is_executing": true
    }
   },
   "outputs": [],
   "source": [
    "%load_ext autoreload\n",
    "%autoreload 2\n",
    "%matplotlib inline"
   ]
  },
  {
   "cell_type": "code",
   "execution_count": null,
   "id": "22e7a537",
   "metadata": {},
   "outputs": [],
   "source": [
    "from pathlib import Path\n",
    "from image2image_reg.utils.transform import _convert_df_to_geojson, _convert_geojson_to_df\n",
    "from image2image_io.readers.geojson_utils import _parse_geojson_data\n",
    "from image2image_io.readers import get_simple_reader\n",
    "from copy import deepcopy\n",
    "import matplotlib.pyplot as plt\n",
    "from koyo.utilities import "
   ]
  },
  {
   "cell_type": "code",
   "execution_count": 214,
   "id": "969512b5",
   "metadata": {},
   "outputs": [],
   "source": [
    "path = Path(\"/Users/lgmigas/Documents/_projects_/2025_xenium_brain/xenium-wsireg/2024_05_17_TR_0828746_Donor16_to_2024_05_17_TR_0028746_Donor16_registered.geojson\")\n",
    "reader = get_simple_reader(path)"
   ]
  },
  {
   "cell_type": "code",
   "execution_count": 222,
   "id": "5e102ced",
   "metadata": {},
   "outputs": [
    {
     "name": "stderr",
     "output_type": "stream",
     "text": [
      "                                                                         \r"
     ]
    }
   ],
   "source": [
    "data = deepcopy(reader.geojson_data)\n",
    "df, n_to_prop = _convert_geojson_to_df(data, False, 0.65)\n",
    "data_ = _convert_df_to_geojson(df, df.x, df.y, as_px=False, target_pixel_size=0.65, n_to_prop=n_to_prop)"
   ]
  },
  {
   "cell_type": "code",
   "execution_count": 217,
   "id": "e9990363",
   "metadata": {},
   "outputs": [],
   "source": [
    "for outer, dff in df.groupby(\"outer\"):\n",
    "    pass"
   ]
  },
  {
   "cell_type": "code",
   "execution_count": 225,
   "id": "b3c013e1",
   "metadata": {},
   "outputs": [
    {
     "data": {
      "text/html": [
       "<div>\n",
       "<style scoped>\n",
       "    .dataframe tbody tr th:only-of-type {\n",
       "        vertical-align: middle;\n",
       "    }\n",
       "\n",
       "    .dataframe tbody tr th {\n",
       "        vertical-align: top;\n",
       "    }\n",
       "\n",
       "    .dataframe thead th {\n",
       "        text-align: right;\n",
       "    }\n",
       "</style>\n",
       "<table border=\"1\" class=\"dataframe\">\n",
       "  <thead>\n",
       "    <tr style=\"text-align: right;\">\n",
       "      <th></th>\n",
       "      <th>x</th>\n",
       "      <th>y</th>\n",
       "      <th>unique_index</th>\n",
       "      <th>outer</th>\n",
       "      <th>inner</th>\n",
       "      <th>type</th>\n",
       "    </tr>\n",
       "  </thead>\n",
       "  <tbody>\n",
       "    <tr>\n",
       "      <th>0</th>\n",
       "      <td>1800.715380</td>\n",
       "      <td>24626.840731</td>\n",
       "      <td>1</td>\n",
       "      <td>0</td>\n",
       "      <td>0</td>\n",
       "      <td>mp</td>\n",
       "    </tr>\n",
       "    <tr>\n",
       "      <th>1</th>\n",
       "      <td>1800.675177</td>\n",
       "      <td>24657.613069</td>\n",
       "      <td>1</td>\n",
       "      <td>0</td>\n",
       "      <td>0</td>\n",
       "      <td>mp</td>\n",
       "    </tr>\n",
       "    <tr>\n",
       "      <th>2</th>\n",
       "      <td>1803.751667</td>\n",
       "      <td>24657.616728</td>\n",
       "      <td>1</td>\n",
       "      <td>0</td>\n",
       "      <td>0</td>\n",
       "      <td>mp</td>\n",
       "    </tr>\n",
       "    <tr>\n",
       "      <th>3</th>\n",
       "      <td>1803.747646</td>\n",
       "      <td>24660.693961</td>\n",
       "      <td>1</td>\n",
       "      <td>0</td>\n",
       "      <td>0</td>\n",
       "      <td>mp</td>\n",
       "    </tr>\n",
       "    <tr>\n",
       "      <th>4</th>\n",
       "      <td>1806.824136</td>\n",
       "      <td>24660.697620</td>\n",
       "      <td>1</td>\n",
       "      <td>0</td>\n",
       "      <td>0</td>\n",
       "      <td>mp</td>\n",
       "    </tr>\n",
       "    <tr>\n",
       "      <th>...</th>\n",
       "      <td>...</td>\n",
       "      <td>...</td>\n",
       "      <td>...</td>\n",
       "      <td>...</td>\n",
       "      <td>...</td>\n",
       "      <td>...</td>\n",
       "    </tr>\n",
       "    <tr>\n",
       "      <th>49629</th>\n",
       "      <td>27446.324795</td>\n",
       "      <td>8178.726748</td>\n",
       "      <td>883</td>\n",
       "      <td>882</td>\n",
       "      <td>0</td>\n",
       "      <td>mp</td>\n",
       "    </tr>\n",
       "    <tr>\n",
       "      <th>49630</th>\n",
       "      <td>27446.320775</td>\n",
       "      <td>8181.803982</td>\n",
       "      <td>883</td>\n",
       "      <td>882</td>\n",
       "      <td>0</td>\n",
       "      <td>mp</td>\n",
       "    </tr>\n",
       "    <tr>\n",
       "      <th>49631</th>\n",
       "      <td>27443.244285</td>\n",
       "      <td>8181.800323</td>\n",
       "      <td>883</td>\n",
       "      <td>882</td>\n",
       "      <td>0</td>\n",
       "      <td>mp</td>\n",
       "    </tr>\n",
       "    <tr>\n",
       "      <th>49632</th>\n",
       "      <td>27443.240265</td>\n",
       "      <td>8184.877557</td>\n",
       "      <td>883</td>\n",
       "      <td>882</td>\n",
       "      <td>0</td>\n",
       "      <td>mp</td>\n",
       "    </tr>\n",
       "    <tr>\n",
       "      <th>49633</th>\n",
       "      <td>27440.163775</td>\n",
       "      <td>8184.873898</td>\n",
       "      <td>883</td>\n",
       "      <td>882</td>\n",
       "      <td>0</td>\n",
       "      <td>mp</td>\n",
       "    </tr>\n",
       "  </tbody>\n",
       "</table>\n",
       "<p>49634 rows × 6 columns</p>\n",
       "</div>"
      ],
      "text/plain": [
       "                  x             y  unique_index  outer  inner type\n",
       "0       1800.715380  24626.840731             1      0      0   mp\n",
       "1       1800.675177  24657.613069             1      0      0   mp\n",
       "2       1803.751667  24657.616728             1      0      0   mp\n",
       "3       1803.747646  24660.693961             1      0      0   mp\n",
       "4       1806.824136  24660.697620             1      0      0   mp\n",
       "...             ...           ...           ...    ...    ...  ...\n",
       "49629  27446.324795   8178.726748           883    882      0   mp\n",
       "49630  27446.320775   8181.803982           883    882      0   mp\n",
       "49631  27443.244285   8181.800323           883    882      0   mp\n",
       "49632  27443.240265   8184.877557           883    882      0   mp\n",
       "49633  27440.163775   8184.873898           883    882      0   mp\n",
       "\n",
       "[49634 rows x 6 columns]"
      ]
     },
     "execution_count": 225,
     "metadata": {},
     "output_type": "execute_result"
    }
   ],
   "source": [
    "df"
   ]
  },
  {
   "cell_type": "code",
   "execution_count": 221,
   "id": "33064aa6",
   "metadata": {},
   "outputs": [
    {
     "data": {
      "text/plain": [
       "array([0])"
      ]
     },
     "execution_count": 221,
     "metadata": {},
     "output_type": "execute_result"
    }
   ],
   "source": [
    "dff.inner.unique()"
   ]
  },
  {
   "cell_type": "code",
   "execution_count": 219,
   "id": "5e53de50",
   "metadata": {},
   "outputs": [
    {
     "data": {
      "text/plain": [
       "<matplotlib.collections.PathCollection at 0x410922310>"
      ]
     },
     "execution_count": 219,
     "metadata": {},
     "output_type": "execute_result"
    },
    {
     "data": {
      "image/png": "[encoded data removed]",
      "text/plain": [
       "<Figure size 640x480 with 1 Axes>"
      ]
     },
     "metadata": {},
     "output_type": "display_data"
    }
   ],
   "source": [
    "plt.scatter(dff.x, dff.y)"
   ]
  },
  {
   "cell_type": "code",
   "execution_count": 121,
   "id": "9f17a270",
   "metadata": {},
   "outputs": [],
   "source": [
    "tmp = data[0][\"geometry\"][\"coordinates\"]\n",
    "tmp_ = data_[0][\"geometry\"][\"coordinates\"]"
   ]
  },
  {
   "cell_type": "code",
   "execution_count": 124,
   "id": "34608d5e",
   "metadata": {},
   "outputs": [],
   "source": [
    "for i in range(len(tmp)):\n",
    "    n_in_original = len(tmp[i])\n",
    "    n_in_new = len(tmp_[i])\n",
    "    assert n_in_original == n_in_new, f\"Number of rings in original and new do not match: {n_in_original} != {n_in_new}\"\n",
    "    for j in range(n_in_original):\n",
    "        n_in_original_ring = len(tmp[i][j])\n",
    "        n_in_new_ring = len(tmp_[i][j])\n",
    "        assert n_in_original_ring == n_in_new_ring, f\"Number of points in original and new do not match: {n_in_original_ring} != {n_in_new_ring}\""
   ]
  },
  {
   "cell_type": "code",
   "execution_count": 125,
   "id": "9c6eb7de",
   "metadata": {},
   "outputs": [],
   "source": [
    "mask = reader.to_mask((20000, 20000))"
   ]
  },
  {
   "cell_type": "code",
   "execution_count": 129,
   "id": "e48b3fbc",
   "metadata": {},
   "outputs": [
    {
     "data": {
      "text/plain": [
       "<matplotlib.image.AxesImage at 0x3325799a0>"
      ]
     },
     "execution_count": 129,
     "metadata": {},
     "output_type": "execute_result"
    },
    {
     "data": {
      "image/png": "[encoded data removed]",
      "text/plain": [
       "<Figure size 640x480 with 1 Axes>"
      ]
     },
     "metadata": {},
     "output_type": "display_data"
    }
   ],
   "source": [
    "plt.imshow(mask[::10, ::10])"
   ]
  },
  {
   "cell_type": "code",
   "execution_count": 143,
   "id": "554c2720",
   "metadata": {},
   "outputs": [],
   "source": [
    "reader_ = deepcopy(reader)\n",
    "reader_.geojson_data = data_\n",
    "reader_.shape_data = _parse_geojson_data(data_)[1]"
   ]
  },
  {
   "cell_type": "code",
   "execution_count": 144,
   "id": "77a0896b",
   "metadata": {},
   "outputs": [],
   "source": [
    "mask_ = reader_.to_mask((20000, 20000))"
   ]
  },
  {
   "cell_type": "code",
   "execution_count": 145,
   "id": "44cc3a01",
   "metadata": {},
   "outputs": [
    {
     "data": {
      "text/plain": [
       "<matplotlib.image.AxesImage at 0x332579af0>"
      ]
     },
     "execution_count": 145,
     "metadata": {},
     "output_type": "execute_result"
    },
    {
     "data": {
      "image/png": "[encoded data removed]",
      "text/plain": [
       "<Figure size 640x480 with 1 Axes>"
      ]
     },
     "metadata": {},
     "output_type": "display_data"
    }
   ],
   "source": [
    "plt.imshow(mask_[::10, ::10])"
   ]
  },
  {
   "cell_type": "code",
   "execution_count": 204,
   "id": "8e89edaf",
   "metadata": {},
   "outputs": [],
   "source": [
    "paht_original = Path(r\"/Users/lgmigas/Documents/_projects_/2025_xenium_brain/xenium-wsireg/OPC.txt\")\n",
    "ro = get_simple_reader(paht_original)\n",
    "path_new = Path(r\"/Users/lgmigas/Documents/_projects_/2025_xenium_brain/2025-02-test-v3.wsireg/Images/OPC_to_post-xenium-pre-thiazine_registered.txt\")\n",
    "rn = get_simple_reader(path_new)"
   ]
  },
  {
   "cell_type": "code",
   "execution_count": 205,
   "id": "02e02436",
   "metadata": {},
   "outputs": [],
   "source": [
    "sho = ro.to_shapely()\n",
    "shn = rn.to_shapely()"
   ]
  },
  {
   "cell_type": "code",
   "execution_count": 206,
   "id": "b482d1fb",
   "metadata": {},
   "outputs": [],
   "source": [
    "kws1 = ro.to_shapes_kwargs()\n",
    "kws2 = rn.to_shapes_kwargs()"
   ]
  },
  {
   "cell_type": "code",
   "execution_count": 207,
   "id": "84905565",
   "metadata": {},
   "outputs": [],
   "source": [
    "assert len(ro.shape_data) == len(rn.shape_data), f\"Number of shapes do not match: {len(ro.shape_data)} != {len(rn.shape_data)}\"\n",
    "for i in range(len(ro.shape_data)):\n",
    "    assert len(ro.shape_data[i]) == len(rn.shape_data[i]), f\"Number of points in shape {i} do not match: {len(ro.shape_data[i])} != {len(rn.shape_data[i])}\""
   ]
  },
  {
   "cell_type": "code",
   "execution_count": 208,
   "id": "564432df",
   "metadata": {},
   "outputs": [],
   "source": [
    "for so, sn in zip(kws1[\"data\"], kws2[\"data\"]):\n",
    "    assert len(so) == len(sn), f\"Number of shapes do not match: {len(so)} != {len(sn)}\"\n",
    "    for o, n in zip(so, sn):\n",
    "        assert len(o) == len(n), f\"Number of points in shape do not match: {len(o)} != {len(n)}\""
   ]
  },
  {
   "cell_type": "code",
   "execution_count": 209,
   "id": "5d9ac752",
   "metadata": {},
   "outputs": [
    {
     "name": "stdout",
     "output_type": "stream",
     "text": [
      "found\n"
     ]
    }
   ],
   "source": [
    "for i, shape in enumerate(ro.shape_data):\n",
    "    if shape[\"shape_name\"] == \"emkdoibc-1\":\n",
    "        print(\"found\")\n",
    "        break"
   ]
  },
  {
   "cell_type": "code",
   "execution_count": 210,
   "id": "bb3f4525",
   "metadata": {},
   "outputs": [
    {
     "data": {
      "text/html": [
       "<div>\n",
       "<style scoped>\n",
       "    .dataframe tbody tr th:only-of-type {\n",
       "        vertical-align: middle;\n",
       "    }\n",
       "\n",
       "    .dataframe tbody tr th {\n",
       "        vertical-align: top;\n",
       "    }\n",
       "\n",
       "    .dataframe thead th {\n",
       "        text-align: right;\n",
       "    }\n",
       "</style>\n",
       "<table border=\"1\" class=\"dataframe\">\n",
       "  <thead>\n",
       "    <tr style=\"text-align: right;\">\n",
       "      <th></th>\n",
       "      <th>x</th>\n",
       "      <th>y</th>\n",
       "      <th>unique_index</th>\n",
       "      <th>outer</th>\n",
       "      <th>inner</th>\n",
       "      <th>type</th>\n",
       "    </tr>\n",
       "  </thead>\n",
       "  <tbody>\n",
       "    <tr>\n",
       "      <th>0</th>\n",
       "      <td>1800.715380</td>\n",
       "      <td>24626.840731</td>\n",
       "      <td>1</td>\n",
       "      <td>0</td>\n",
       "      <td>0</td>\n",
       "      <td>mp</td>\n",
       "    </tr>\n",
       "    <tr>\n",
       "      <th>1</th>\n",
       "      <td>1800.675177</td>\n",
       "      <td>24657.613069</td>\n",
       "      <td>1</td>\n",
       "      <td>0</td>\n",
       "      <td>0</td>\n",
       "      <td>mp</td>\n",
       "    </tr>\n",
       "    <tr>\n",
       "      <th>2</th>\n",
       "      <td>1803.751667</td>\n",
       "      <td>24657.616728</td>\n",
       "      <td>1</td>\n",
       "      <td>0</td>\n",
       "      <td>0</td>\n",
       "      <td>mp</td>\n",
       "    </tr>\n",
       "    <tr>\n",
       "      <th>3</th>\n",
       "      <td>1803.747646</td>\n",
       "      <td>24660.693961</td>\n",
       "      <td>1</td>\n",
       "      <td>0</td>\n",
       "      <td>0</td>\n",
       "      <td>mp</td>\n",
       "    </tr>\n",
       "    <tr>\n",
       "      <th>4</th>\n",
       "      <td>1806.824136</td>\n",
       "      <td>24660.697620</td>\n",
       "      <td>1</td>\n",
       "      <td>0</td>\n",
       "      <td>0</td>\n",
       "      <td>mp</td>\n",
       "    </tr>\n",
       "    <tr>\n",
       "      <th>...</th>\n",
       "      <td>...</td>\n",
       "      <td>...</td>\n",
       "      <td>...</td>\n",
       "      <td>...</td>\n",
       "      <td>...</td>\n",
       "      <td>...</td>\n",
       "    </tr>\n",
       "    <tr>\n",
       "      <th>49629</th>\n",
       "      <td>27446.324795</td>\n",
       "      <td>8178.726748</td>\n",
       "      <td>1</td>\n",
       "      <td>882</td>\n",
       "      <td>0</td>\n",
       "      <td>mp</td>\n",
       "    </tr>\n",
       "    <tr>\n",
       "      <th>49630</th>\n",
       "      <td>27446.320775</td>\n",
       "      <td>8181.803982</td>\n",
       "      <td>1</td>\n",
       "      <td>882</td>\n",
       "      <td>0</td>\n",
       "      <td>mp</td>\n",
       "    </tr>\n",
       "    <tr>\n",
       "      <th>49631</th>\n",
       "      <td>27443.244285</td>\n",
       "      <td>8181.800323</td>\n",
       "      <td>1</td>\n",
       "      <td>882</td>\n",
       "      <td>0</td>\n",
       "      <td>mp</td>\n",
       "    </tr>\n",
       "    <tr>\n",
       "      <th>49632</th>\n",
       "      <td>27443.240265</td>\n",
       "      <td>8184.877557</td>\n",
       "      <td>1</td>\n",
       "      <td>882</td>\n",
       "      <td>0</td>\n",
       "      <td>mp</td>\n",
       "    </tr>\n",
       "    <tr>\n",
       "      <th>49633</th>\n",
       "      <td>27440.163775</td>\n",
       "      <td>8184.873898</td>\n",
       "      <td>1</td>\n",
       "      <td>882</td>\n",
       "      <td>0</td>\n",
       "      <td>mp</td>\n",
       "    </tr>\n",
       "  </tbody>\n",
       "</table>\n",
       "<p>49634 rows × 6 columns</p>\n",
       "</div>"
      ],
      "text/plain": [
       "                  x             y  unique_index  outer  inner type\n",
       "0       1800.715380  24626.840731             1      0      0   mp\n",
       "1       1800.675177  24657.613069             1      0      0   mp\n",
       "2       1803.751667  24657.616728             1      0      0   mp\n",
       "3       1803.747646  24660.693961             1      0      0   mp\n",
       "4       1806.824136  24660.697620             1      0      0   mp\n",
       "...             ...           ...           ...    ...    ...  ...\n",
       "49629  27446.324795   8178.726748             1    882      0   mp\n",
       "49630  27446.320775   8181.803982             1    882      0   mp\n",
       "49631  27443.244285   8181.800323             1    882      0   mp\n",
       "49632  27443.240265   8184.877557             1    882      0   mp\n",
       "49633  27440.163775   8184.873898             1    882      0   mp\n",
       "\n",
       "[49634 rows x 6 columns]"
      ]
     },
     "execution_count": 210,
     "metadata": {},
     "output_type": "execute_result"
    }
   ],
   "source": [
    "df"
   ]
  },
  {
   "cell_type": "code",
   "execution_count": 199,
   "id": "cb8aee20",
   "metadata": {},
   "outputs": [
    {
     "data": {
      "text/plain": [
       "{'array': array([[5560.3286, 2944.732 ],\n",
       "        [5559.7026, 2940.4912],\n",
       "        [5558.0156, 2936.8843],\n",
       "        [5544.4697, 2931.134 ],\n",
       "        [5531.754 , 2933.6523],\n",
       "        [5529.2085, 2935.1313],\n",
       "        [5523.8833, 2948.4749],\n",
       "        [5525.989 , 2954.4143],\n",
       "        [5530.2153, 2959.0862],\n",
       "        [5553.305 , 2959.768 ],\n",
       "        [5557.9766, 2954.69  ],\n",
       "        [5560.324 , 2946.6396],\n",
       "        [5560.3286, 2944.732 ]], dtype=float32),\n",
       " 'shape_type': 'polygon',\n",
       " 'shape_name': 'emkdoibc-1'}"
      ]
     },
     "execution_count": 199,
     "metadata": {},
     "output_type": "execute_result"
    }
   ],
   "source": [
    "ro.shape_data[i]"
   ]
  },
  {
   "cell_type": "code",
   "execution_count": 211,
   "id": "ca64d362",
   "metadata": {},
   "outputs": [
    {
     "data": {
      "text/plain": [
       "{'array': array([[5475.095 , 2418.9575],\n",
       "        [5745.932 , 2291.9524],\n",
       "        [5745.93  , 2292.022 ],\n",
       "        [5733.9165, 2282.9897],\n",
       "        [5723.065 , 2283.0276],\n",
       "        [5720.024 , 2283.0598],\n",
       "        [5712.9263, 2293.9014],\n",
       "        [5715.994 , 2306.0127],\n",
       "        [5715.9023, 2306.0156],\n",
       "        [5743.019 , 2309.9712],\n",
       "        [5742.932 , 2309.992 ],\n",
       "        [5746.0845, 2302.9885],\n",
       "        [5746.902 , 2301.074 ]], dtype=float32),\n",
       " 'shape_type': 'polygon',\n",
       " 'shape_name': 'emkdoibc-1'}"
      ]
     },
     "execution_count": 211,
     "metadata": {},
     "output_type": "execute_result"
    }
   ],
   "source": [
    "rn.shape_data[i]"
   ]
  },
  {
   "cell_type": "code",
   "execution_count": 212,
   "id": "3d5ae028",
   "metadata": {},
   "outputs": [
    {
     "data": {
      "image/svg+xml": [
       "<svg xmlns=\"http://www.w3.org/2000/svg\" xmlns:xlink=\"http://www.w3.org/1999/xlink\" width=\"100.0\" height=\"100.0\" viewBox=\"5522.42548828125 2929.676220703125 39.360937499999636 31.549658203124636\" preserveAspectRatio=\"xMinYMin meet\"><g transform=\"matrix(1,0,0,-1,0,5890.902099609375)\"><path fill-rule=\"evenodd\" fill=\"#66cc99\" stroke=\"#555555\" stroke-width=\"0.7872187499999928\" opacity=\"0.6\" d=\"M 5560.32861328125,2944.73193359375 L 5559.70263671875,2940.4912109375 L 5558.015625,2936.88427734375 L 5544.4697265625,2931.134033203125 L 5531.75390625,2933.65234375 L 5529.20849609375,2935.13134765625 L 5523.88330078125,2948.474853515625 L 5525.98876953125,2954.414306640625 L 5530.21533203125,2959.086181640625 L 5553.30517578125,2959.76806640625 L 5557.9765625,2954.68994140625 L 5560.32421875,2946.6396484375 L 5560.32861328125,2944.73193359375 z\" /></g></svg>"
      ],
      "text/plain": [
       "<POLYGON ((5560.329 2944.732, 5559.703 2940.491, 5558.016 2936.884, 5544.47 ...>"
      ]
     },
     "execution_count": 212,
     "metadata": {},
     "output_type": "execute_result"
    }
   ],
   "source": [
    "sho[i]"
   ]
  },
  {
   "cell_type": "code",
   "execution_count": 213,
   "id": "31d4d984",
   "metadata": {},
   "outputs": [
    {
     "data": {
      "image/svg+xml": [
       "<svg xmlns=\"http://www.w3.org/2000/svg\" xmlns:xlink=\"http://www.w3.org/1999/xlink\" width=\"293.55117187500036\" height=\"157.71230468750036\" viewBox=\"5464.22294921875 2272.11748046875 293.55117187500036 157.71230468750036\" preserveAspectRatio=\"xMinYMin meet\"><g transform=\"matrix(1,0,0,-1,0,4701.947265625)\"><path fill-rule=\"evenodd\" fill=\"#ff3333\" stroke=\"#555555\" stroke-width=\"2.0\" opacity=\"0.6\" d=\"M 5475.09521484375,2418.95751953125 L 5745.93212890625,2291.952392578125 L 5745.93017578125,2292.02197265625 L 5733.91650390625,2282.98974609375 L 5723.06494140625,2283.027587890625 L 5720.02392578125,2283.059814453125 L 5712.92626953125,2293.9013671875 L 5715.994140625,2306.0126953125 L 5715.90234375,2306.015625 L 5743.01904296875,2309.97119140625 L 5742.93212890625,2309.991943359375 L 5746.08447265625,2302.988525390625 L 5746.90185546875,2301.073974609375 L 5475.09521484375,2418.95751953125 z\" /></g></svg>"
      ],
      "text/plain": [
       "<POLYGON ((5475.095 2418.958, 5745.932 2291.952, 5745.93 2292.022, 5733.917 ...>"
      ]
     },
     "execution_count": 213,
     "metadata": {},
     "output_type": "execute_result"
    }
   ],
   "source": [
    "shn[i]"
   ]
  },
  {
   "cell_type": "code",
   "execution_count": 178,
   "id": "b7c1a87c",
   "metadata": {},
   "outputs": [
    {
     "data": {
      "image/svg+xml": [
       "<svg xmlns=\"http://www.w3.org/2000/svg\" xmlns:xlink=\"http://www.w3.org/1999/xlink\" width=\"300\" height=\"300\" viewBox=\"6276.115205078125 1308.158662109375 394.7608007812505 994.6502050781248\" preserveAspectRatio=\"xMinYMin meet\"><g transform=\"matrix(1,0,0,-1,0,3610.967529296875)\"><path fill-rule=\"evenodd\" fill=\"#ff3333\" stroke=\"#555555\" stroke-width=\"6.6310013671874986\" opacity=\"0.6\" d=\"M 6312.9541015625,1344.99755859375 L 6628.96728515625,2256.989501953125 L 6628.94384765625,2257.01708984375 L 6627.98876953125,2255.068603515625 L 6628.0439453125,2254.046142578125 L 6634.01123046875,2243.02587890625 L 6634.037109375,2242.9931640625 L 6625.96142578125,2236.904541015625 L 6622.93115234375,2252.923095703125 L 6622.9208984375,2252.91845703125 L 6627.9716796875,2265.043212890625 L 6628.0341796875,2265.047607421875 L 6634.00146484375,2265.969970703125 L 6312.9541015625,1344.99755859375 z\" /></g></svg>"
      ],
      "text/plain": [
       "<POLYGON ((6312.954 1344.998, 6628.967 2256.99, 6628.944 2257.017, 6627.989 ...>"
      ]
     },
     "execution_count": 178,
     "metadata": {},
     "output_type": "execute_result"
    }
   ],
   "source": [
    "i += 1\n",
    "shn[i]"
   ]
  }
 ],
 "metadata": {
  "kernelspec": {
   "display_name": "venv4",
   "language": "python",
   "name": "python3"
  },
  "language_info": {
   "codemirror_mode": {
    "name": "ipython",
    "version": 3
   },
   "file_extension": ".py",
   "mimetype": "text/x-python",
   "name": "python",
   "nbconvert_exporter": "python",
   "pygments_lexer": "ipython3",
   "version": "3.9.18"
  }
 },
 "nbformat": 5,
 "nbformat_minor": 9
}
