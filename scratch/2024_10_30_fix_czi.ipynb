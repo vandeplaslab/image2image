{
 "cells": [
  {
   "cell_type": "code",
   "execution_count": 1,
   "metadata": {},
   "outputs": [],
   "source": [
    "%load_ext autoreload\n",
    "%autoreload 2\n",
    "%matplotlib inline"
   ]
  },
  {
   "cell_type": "code",
   "execution_count": 13,
   "metadata": {},
   "outputs": [],
   "source": [
    "import numpy as np\n",
    "from image2image_io.readers import get_simple_reader\n",
    "from image2image_io.readers._czi import CziFile, get_czi_thumbnail"
   ]
  },
  {
   "cell_type": "code",
   "execution_count": 3,
   "metadata": {},
   "outputs": [],
   "source": [
    "path = r\"/Users/lgmigas/Documents/DATA/i2i_test/2022_02_11__15_51__0381.czi\"\n",
    "\n",
    "czi = CziFile(path)"
   ]
  },
  {
   "cell_type": "code",
   "execution_count": 15,
   "metadata": {},
   "outputs": [
    {
     "data": {
      "text/plain": [
       "(1, 1, 4, 18565, 29580, 1)"
      ]
     },
     "execution_count": 15,
     "metadata": {},
     "output_type": "execute_result"
    }
   ],
   "source": [
    "# get_level_blocks(reader.fh)[32]\n",
    "reader.fh.shape"
   ]
  },
  {
   "cell_type": "code",
   "execution_count": 16,
   "metadata": {},
   "outputs": [
    {
     "name": "stdout",
     "output_type": "stream",
     "text": [
      "[1408, 2184, 3052, 3098, 3107, 3108, 3109, 3110, 3112, 3113, 3114, 3115]\n"
     ]
    },
    {
     "data": {
      "text/plain": [
       "(None, None)"
      ]
     },
     "execution_count": 16,
     "metadata": {},
     "output_type": "execute_result"
    }
   ],
   "source": [
    "get_czi_thumbnail(reader.fh, reader.scale)"
   ]
  },
  {
   "cell_type": "code",
   "execution_count": 8,
   "metadata": {},
   "outputs": [
    {
     "data": {
      "text/plain": [
       "(1, 1, 4, 18565, 29580, 1)"
      ]
     },
     "execution_count": 8,
     "metadata": {},
     "output_type": "execute_result"
    }
   ],
   "source": [
    "reader.fh.shape"
   ]
  },
  {
   "cell_type": "code",
   "execution_count": 4,
   "metadata": {},
   "outputs": [],
   "source": [
    "reader = get_simple_reader(path, init_pyramid=False, scene_index=0)"
   ]
  },
  {
   "cell_type": "code",
   "execution_count": 6,
   "metadata": {},
   "outputs": [
    {
     "name": "stderr",
     "output_type": "stream",
     "text": [
      "Reading subblocks: 100%|██████████| 640/640 [00:05<00:00, 109.56block/s]\n"
     ]
    },
    {
     "data": {
      "text/plain": [
       "(dask.array<from-zarr, shape=(4, 1160, 1848), dtype=uint16, chunksize=(1, 1024, 1024), chunktype=numpy.ndarray>,\n",
       " (10.4, 10.4))"
      ]
     },
     "execution_count": 6,
     "metadata": {},
     "output_type": "execute_result"
    }
   ],
   "source": [
    "reader.get_thumbnail()"
   ]
  },
  {
   "cell_type": "code",
   "execution_count": 16,
   "metadata": {},
   "outputs": [
    {
     "name": "stderr",
     "output_type": "stream",
     "text": [
      "Reading subblocks: 100%|██████████| 1360/1360 [00:07<00:00, 181.17block/s]\n"
     ]
    }
   ],
   "source": [
    "data = czi.asarray_alt()"
   ]
  },
  {
   "cell_type": "code",
   "execution_count": 35,
   "metadata": {},
   "outputs": [],
   "source": [
    "data2 = czi.asarray()"
   ]
  },
  {
   "cell_type": "code",
   "execution_count": 36,
   "metadata": {},
   "outputs": [
    {
     "data": {
      "text/plain": [
       "(1, 3, 4, 26286, 69983, 1)"
      ]
     },
     "execution_count": 36,
     "metadata": {},
     "output_type": "execute_result"
    }
   ],
   "source": [
    "data2.shape"
   ]
  },
  {
   "cell_type": "code",
   "execution_count": 17,
   "metadata": {},
   "outputs": [
    {
     "name": "stdout",
     "output_type": "stream",
     "text": [
      "[6]\n",
      "[6, 7]\n",
      "[6, 7, 2]\n",
      "[6, 7, 2, 3]\n",
      "[6, 7, 2, 3, 4]\n",
      "[6, 7, 2, 3, 4, 5, 0, 1]\n"
     ]
    }
   ],
   "source": [
    "self = czi\n",
    "tzcyx0_axis_indices = []\n",
    "if \"T\" in self.axes:\n",
    "    tzcyx0_axis_indices.append(self.axes.index(\"T\"))\n",
    "else:\n",
    "    tzcyx0_axis_indices.append(data.ndim)\n",
    "    data = np.expand_dims(data, -1)\n",
    "if \"Z\" in self.axes:\n",
    "    tzcyx0_axis_indices.append(self.axes.index(\"Z\"))\n",
    "else:\n",
    "    tzcyx0_axis_indices.append(data.ndim)\n",
    "    data = np.expand_dims(data, -1)\n",
    "if \"C\" in self.axes:\n",
    "    tzcyx0_axis_indices.append(self.axes.index(\"C\"))\n",
    "else:\n",
    "    tzcyx0_axis_indices.append(data.ndim)\n",
    "    data = np.expand_dims(data, -1)\n",
    "tzcyx0_axis_indices.append(self.axes.index(\"Y\"))\n",
    "tzcyx0_axis_indices.append(self.axes.index(\"X\"))\n",
    "if \"0\" in self.axes:\n",
    "    tzcyx0_axis_indices.append(self.axes.index(\"0\"))\n",
    "else:\n",
    "    tzcyx0_axis_indices.append(data.ndim)\n",
    "    data = np.expand_dims(data, -1)\n",
    "for axis_index in range(len(self.axes)):\n",
    "    if axis_index not in tzcyx0_axis_indices:\n",
    "        tzcyx0_axis_indices.append(axis_index)\n",
    "print(tzcyx0_axis_indices)"
   ]
  },
  {
   "cell_type": "code",
   "execution_count": 19,
   "metadata": {},
   "outputs": [],
   "source": [
    "data = data.transpose(tzcyx0_axis_indices)"
   ]
  },
  {
   "cell_type": "code",
   "execution_count": 29,
   "metadata": {},
   "outputs": [
    {
     "data": {
      "text/plain": [
       "(1, 1, 4, 26286, 69983, 1, 1, 3)"
      ]
     },
     "execution_count": 29,
     "metadata": {},
     "output_type": "execute_result"
    }
   ],
   "source": [
    "data.shape"
   ]
  },
  {
   "cell_type": "code",
   "execution_count": 34,
   "metadata": {},
   "outputs": [
    {
     "ename": "AttributeError",
     "evalue": "Incompatible shape for in-place modification. Use `.reshape()` to make a copy with the desired shape.",
     "output_type": "error",
     "traceback": [
      "\u001b[0;31m---------------------------------------------------------------------------\u001b[0m",
      "\u001b[0;31mAttributeError\u001b[0m                            Traceback (most recent call last)",
      "Cell \u001b[0;32mIn[34], line 4\u001b[0m\n\u001b[1;32m      2\u001b[0m new_shape[\u001b[38;5;241m3\u001b[39m] \u001b[38;5;241m*\u001b[39m\u001b[38;5;241m=\u001b[39m data\u001b[38;5;241m.\u001b[39mshape[\u001b[38;5;241m-\u001b[39m\u001b[38;5;241m1\u001b[39m]\n\u001b[1;32m      3\u001b[0m \u001b[38;5;66;03m# new_shape[4] *= data.shape[-1]\u001b[39;00m\n\u001b[0;32m----> 4\u001b[0m \u001b[43mdata\u001b[49m\u001b[38;5;241;43m.\u001b[39;49m\u001b[43mshape\u001b[49m \u001b[38;5;241m=\u001b[39m new_shape[:\u001b[38;5;241m6\u001b[39m]\n",
      "\u001b[0;31mAttributeError\u001b[0m: Incompatible shape for in-place modification. Use `.reshape()` to make a copy with the desired shape."
     ]
    }
   ],
   "source": [
    "new_shape = list(data.shape)\n",
    "new_shape[3] *= data.shape[-1]\n",
    "data.shape = new_shape[:6]"
   ]
  },
  {
   "cell_type": "code",
   "execution_count": null,
   "metadata": {},
   "outputs": [],
   "source": []
  },
  {
   "cell_type": "code",
   "execution_count": 25,
   "metadata": {},
   "outputs": [
    {
     "ename": "ValueError",
     "evalue": "cannot reshape array of size 22074877656 into shape (1,1,4,26286,69983,1)",
     "output_type": "error",
     "traceback": [
      "\u001b[0;31m---------------------------------------------------------------------------\u001b[0m",
      "\u001b[0;31mValueError\u001b[0m                                Traceback (most recent call last)",
      "Cell \u001b[0;32mIn[25], line 1\u001b[0m\n\u001b[0;32m----> 1\u001b[0m \u001b[43mdata\u001b[49m\u001b[38;5;241;43m.\u001b[39;49m\u001b[43mshape\u001b[49m \u001b[38;5;241m=\u001b[39m data\u001b[38;5;241m.\u001b[39mshape[:\u001b[38;5;241m6\u001b[39m]\n",
      "\u001b[0;31mValueError\u001b[0m: cannot reshape array of size 22074877656 into shape (1,1,4,26286,69983,1)"
     ]
    }
   ],
   "source": [
    "data.shape = data.shape[:6]"
   ]
  },
  {
   "cell_type": "code",
   "execution_count": 22,
   "metadata": {},
   "outputs": [
    {
     "data": {
      "text/plain": [
       "(1, 1, 4, 26286, 69983, 1)"
      ]
     },
     "execution_count": 22,
     "metadata": {},
     "output_type": "execute_result"
    }
   ],
   "source": [
    "data.shape[:6]"
   ]
  }
 ],
 "metadata": {
  "kernelspec": {
   "display_name": "venv",
   "language": "python",
   "name": "python3"
  },
  "language_info": {
   "codemirror_mode": {
    "name": "ipython",
    "version": 3
   },
   "file_extension": ".py",
   "mimetype": "text/x-python",
   "name": "python",
   "nbconvert_exporter": "python",
   "pygments_lexer": "ipython3",
   "version": "3.10.18"
  }
 },
 "nbformat": 4,
 "nbformat_minor": 2
}
